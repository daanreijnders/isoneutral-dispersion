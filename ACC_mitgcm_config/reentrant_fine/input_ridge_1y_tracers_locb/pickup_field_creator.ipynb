{
 "cells": [
  {
   "cell_type": "code",
   "execution_count": 1,
   "metadata": {},
   "outputs": [],
   "source": [
    "import xmitgcm as xm\n",
    "import numpy as np\n",
    "import matplotlib.pyplot as plt\n",
    "from mpl_toolkits.mplot3d import Axes3D\n",
    "import plotly.graph_objects as go\n",
    "import plotly.figure_factory as ff\n",
    "import sys\n",
    "import xarray as xr\n",
    "\n",
    "%matplotlib inline\n",
    "%config InlineBackend.figure_format='retina'"
   ]
  },
  {
   "cell_type": "markdown",
   "metadata": {},
   "source": [
    "Note that 2-D and 3-D arrays should be index-ordered as $(y,x)$ and $(z, y, x)$ respectively, to be written in proper ordering for MITgcm."
   ]
  },
  {
   "cell_type": "code",
   "execution_count": 2,
   "metadata": {},
   "outputs": [],
   "source": [
    "# Writing utility\n",
    "def writefield(fname, data, dtype=np.dtype(\"float32\")):\n",
    "    dcopy = data.copy()\n",
    "    print(\"write to file: \" + fname)\n",
    "    if dcopy.dtype != dtype:\n",
    "        dcopy = dcopy.astype(dtype)\n",
    "        print(\"changed dtype to \" + str(dcopy.dtype))\n",
    "    if sys.byteorder == \"little\":\n",
    "        dcopy.byteswap(True)\n",
    "    fid = open(fname, \"wb\")\n",
    "    dcopy.tofile(fid)\n",
    "    fid.close()"
   ]
  },
  {
   "cell_type": "code",
   "execution_count": 3,
   "metadata": {},
   "outputs": [],
   "source": [
    "def openfield(fname, shape, dtype=np.dtype(\"float32\")):\n",
    "    data = np.fromfile(fname, dtype)\n",
    "    if sys.byteorder == \"little\":\n",
    "        data.byteswap(True)\n",
    "    return data.reshape(shape)"
   ]
  },
  {
   "cell_type": "markdown",
   "metadata": {},
   "source": [
    "# Set up grid"
   ]
  },
  {
   "cell_type": "code",
   "execution_count": 4,
   "metadata": {},
   "outputs": [],
   "source": [
    "Ho = 3982.2607  # ocean depth in meters\n",
    "\n",
    "Lx = 1000\n",
    "Ly = 2000\n",
    "\n",
    "nx = 200  # number of gridpoints in x-direction - 1000km/5km\n",
    "ny = 400  # number of gridpoints in y-direction - 2000km/5km\n",
    "nz = 49  # number of vertical levels\n",
    "\n",
    "dx = Lx / nx\n",
    "dy = Ly / ny\n",
    "\n",
    "X = np.linspace(0, Lx, nx, dtype=\"float32\")\n",
    "Y = np.linspace(0, Ly, ny, dtype=\"float32\")\n",
    "\n",
    "XX, YY = np.meshgrid(X, Y)"
   ]
  },
  {
   "cell_type": "markdown",
   "metadata": {},
   "source": [
    "# Bathymetry"
   ]
  },
  {
   "cell_type": "code",
   "execution_count": 5,
   "metadata": {},
   "outputs": [],
   "source": [
    "# Flat bottom at z=-Ho\n",
    "h = -Ho * np.ones((ny, nx), dtype=\"float32\")\n",
    "h[(0, -1), :] = 0  # Walls at top and bottom of domain"
   ]
  },
  {
   "cell_type": "markdown",
   "metadata": {},
   "source": [
    "# Load pickup data"
   ]
  },
  {
   "cell_type": "code",
   "execution_count": 6,
   "metadata": {},
   "outputs": [],
   "source": [
    "ds = xm.open_mdsdataset(\n",
    "    data_dir=\"/projects/0/topios/hydrodynamic_data/MITgcm/ACC_channel/ACC_ridge_fine_spinup/Diags\",\n",
    "    prefix=[\"state\", \"2D_diags\"],\n",
    "    read_grid=True,\n",
    "    geometry=\"cartesian\",\n",
    ")"
   ]
  },
  {
   "cell_type": "markdown",
   "metadata": {},
   "source": [
    "# Export binaries for U, V, $\\Theta$ & $\\eta$"
   ]
  },
  {
   "cell_type": "code",
   "execution_count": 14,
   "metadata": {},
   "outputs": [
    {
     "name": "stdout",
     "output_type": "stream",
     "text": [
      "write to file: pickup_temp.bin\n"
     ]
    }
   ],
   "source": [
    "writefield(\"pickup_temp.bin\", ds.isel(time=69).THETA.values)"
   ]
  },
  {
   "cell_type": "code",
   "execution_count": 15,
   "metadata": {},
   "outputs": [
    {
     "name": "stdout",
     "output_type": "stream",
     "text": [
      "write to file: pickup_uvel.bin\n"
     ]
    }
   ],
   "source": [
    "writefield(\"pickup_uvel.bin\", ds.isel(time=69).UVEL.values)"
   ]
  },
  {
   "cell_type": "code",
   "execution_count": 16,
   "metadata": {},
   "outputs": [
    {
     "name": "stdout",
     "output_type": "stream",
     "text": [
      "write to file: pickup_vvel.bin\n"
     ]
    }
   ],
   "source": [
    "writefield(\"pickup_vvel.bin\", ds.isel(time=69).VVEL.values)"
   ]
  },
  {
   "cell_type": "code",
   "execution_count": 17,
   "metadata": {},
   "outputs": [
    {
     "name": "stdout",
     "output_type": "stream",
     "text": [
      "write to file: pickup_etan.bin\n"
     ]
    }
   ],
   "source": [
    "writefield(\"pickup_etan.bin\", ds.isel(time=69).ETAN.values)"
   ]
  },
  {
   "cell_type": "markdown",
   "metadata": {},
   "source": [
    "# Initial tracer (dummy salinity) setup"
   ]
  },
  {
   "cell_type": "markdown",
   "metadata": {},
   "source": [
    "We release the initial tracer profile at concentration 1 psu. Initial profile is padded (10 boxes on each side) with exponential decay to prevent spurious oscillations."
   ]
  },
  {
   "cell_type": "code",
   "execution_count": 7,
   "metadata": {},
   "outputs": [
    {
     "name": "stdout",
     "output_type": "stream",
     "text": [
      "252500 1002500\n"
     ]
    }
   ],
   "source": [
    "X_release = int(ds.XC[50].data)\n",
    "Y_release = int(ds.YC[200].data)\n",
    "print(X_release, Y_release)"
   ]
  },
  {
   "cell_type": "code",
   "execution_count": 8,
   "metadata": {},
   "outputs": [],
   "source": [
    "XX, YY = np.meshgrid(ds.XC.data, ds.YC.data)"
   ]
  },
  {
   "cell_type": "code",
   "execution_count": 9,
   "metadata": {},
   "outputs": [],
   "source": [
    "dist_to_release = np.sqrt(np.square(X_release - XX) + np.square(Y_release - YY))"
   ]
  },
  {
   "cell_type": "markdown",
   "metadata": {},
   "source": [
    "The initial tracer distribution is \n",
    "$$\n",
    "\\begin{cases} \n",
    "    \\left(\\frac{1}{(2 e)^{r/50,000}}-\\frac{1}{2 e}\\right)/\\left(1-\\frac{1}{2e}\\right) &\\qquad r<=50,000 \\text{ meters}\\\\\n",
    "    0 &\\qquad r>50,000 \\text{ meters}\n",
    "\\end{cases}    \n",
    "$$\n",
    "where\n",
    "$$\n",
    "r = \\sqrt{(X_r-X)^2 + (Y_r-Y)^2}\n",
    "$$"
   ]
  },
  {
   "cell_type": "code",
   "execution_count": 10,
   "metadata": {},
   "outputs": [],
   "source": [
    "S_3D = np.zeros((nz, ny, nx))\n",
    "S_3D[24, :, :] = np.where(dist_to_release/50000<=1,(1/np.power(2*np.exp(1), dist_to_release/50000)- 1/(2*np.exp(1)))/(1-1/(2*np.exp(1))), 0)"
   ]
  },
  {
   "cell_type": "code",
   "execution_count": 11,
   "metadata": {},
   "outputs": [
    {
     "data": {
      "text/plain": [
       "<matplotlib.image.AxesImage at 0x2b252ff988e0>"
      ]
     },
     "execution_count": 11,
     "metadata": {},
     "output_type": "execute_result"
    },
    {
     "data": {
      "image/png": "[encoded data removed]",
      "text/plain": [
       "<Figure size 432x288 with 1 Axes>"
      ]
     },
     "metadata": {
      "image/png": {
       "height": 251,
       "width": 149
      },
      "needs_background": "light"
     },
     "output_type": "display_data"
    }
   ],
   "source": [
    "plt.imshow(S_3D[24, :, :])"
   ]
  },
  {
   "cell_type": "code",
   "execution_count": 12,
   "metadata": {},
   "outputs": [
    {
     "data": {
      "image/png": "[encoded data removed]",
      "text/plain": [
       "<Figure size 432x288 with 1 Axes>"
      ]
     },
     "metadata": {
      "image/png": {
       "height": 261,
       "width": 388
      },
      "needs_background": "light"
     },
     "output_type": "display_data"
    }
   ],
   "source": [
    "plt.plot(X, S_3D[24,200,:])\n",
    "plt.xlabel('X [km]')\n",
    "plt.ylabel(r'tracer concentration [$m^{-3}$]')\n",
    "plt.show()"
   ]
  },
  {
   "cell_type": "code",
   "execution_count": 13,
   "metadata": {},
   "outputs": [
    {
     "name": "stdout",
     "output_type": "stream",
     "text": [
      "write to file: salinity_tracer_point.bin\n",
      "changed dtype to float32\n"
     ]
    }
   ],
   "source": [
    "writefield(\"salinity_tracer_point.bin\", S_3D)"
   ]
  },
  {
   "cell_type": "code",
   "execution_count": null,
   "metadata": {},
   "outputs": [],
   "source": []
  }
 ],
 "metadata": {
  "kernelspec": {
   "display_name": "Python 3 (ipykernel)",
   "language": "python",
   "name": "python3"
  },
  "language_info": {
   "codemirror_mode": {
    "name": "ipython",
    "version": 3
   },
   "file_extension": ".py",
   "mimetype": "text/x-python",
   "name": "python",
   "nbconvert_exporter": "python",
   "pygments_lexer": "ipython3",
   "version": "3.8.8"
  }
 },
 "nbformat": 4,
 "nbformat_minor": 4
}
