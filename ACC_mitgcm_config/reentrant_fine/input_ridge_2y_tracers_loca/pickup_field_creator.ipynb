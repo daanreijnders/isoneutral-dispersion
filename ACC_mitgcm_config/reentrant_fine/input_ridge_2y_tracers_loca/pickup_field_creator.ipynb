{
 "cells": [
  {
   "cell_type": "code",
   "execution_count": 3,
   "metadata": {},
   "outputs": [],
   "source": [
    "import xmitgcm as xm\n",
    "import numpy as np\n",
    "import matplotlib.pyplot as plt\n",
    "from mpl_toolkits.mplot3d import Axes3D\n",
    "import plotly.graph_objects as go\n",
    "import plotly.figure_factory as ff\n",
    "import sys\n",
    "import xarray as xr\n",
    "\n",
    "%matplotlib inline\n",
    "%config InlineBackend.figure_format='retina'"
   ]
  },
  {
   "cell_type": "markdown",
   "metadata": {},
   "source": [
    "Note that 2-D and 3-D arrays should be index-ordered as $(y,x)$ and $(z, y, x)$ respectively, to be written in proper ordering for MITgcm."
   ]
  },
  {
   "cell_type": "code",
   "execution_count": 4,
   "metadata": {},
   "outputs": [],
   "source": [
    "# Writing utility\n",
    "def writefield(fname, data, dtype=np.dtype(\"float32\")):\n",
    "    dcopy = data.copy()\n",
    "    print(\"write to file: \" + fname)\n",
    "    if dcopy.dtype != dtype:\n",
    "        dcopy = dcopy.astype(dtype)\n",
    "        print(\"changed dtype to \" + str(dcopy.dtype))\n",
    "    if sys.byteorder == \"little\":\n",
    "        dcopy.byteswap(True)\n",
    "    fid = open(fname, \"wb\")\n",
    "    dcopy.tofile(fid)\n",
    "    fid.close()"
   ]
  },
  {
   "cell_type": "code",
   "execution_count": 5,
   "metadata": {},
   "outputs": [],
   "source": [
    "def openfield(fname, shape, dtype=np.dtype(\"float32\")):\n",
    "    data = np.fromfile(fname, dtype)\n",
    "    if sys.byteorder == \"little\":\n",
    "        data.byteswap(True)\n",
    "    return data.reshape(shape)"
   ]
  },
  {
   "cell_type": "markdown",
   "metadata": {},
   "source": [
    "# Set up grid"
   ]
  },
  {
   "cell_type": "code",
   "execution_count": 6,
   "metadata": {},
   "outputs": [],
   "source": [
    "Ho = 3982.2607  # ocean depth in meters\n",
    "\n",
    "Lx = 1000\n",
    "Ly = 2000\n",
    "\n",
    "nx = 200  # number of gridpoints in x-direction - 1000km/5km\n",
    "ny = 400  # number of gridpoints in y-direction - 2000km/5km\n",
    "nz = 49  # number of vertical levels\n",
    "\n",
    "dx = Lx / nx\n",
    "dy = Ly / ny\n",
    "\n",
    "X = np.linspace(0, Lx, nx, dtype=\"float32\")\n",
    "Y = np.linspace(0, Ly, ny, dtype=\"float32\")\n",
    "\n",
    "XX, YY = np.meshgrid(X, Y)"
   ]
  },
  {
   "cell_type": "markdown",
   "metadata": {},
   "source": [
    "# Bathymetry"
   ]
  },
  {
   "cell_type": "code",
   "execution_count": 7,
   "metadata": {},
   "outputs": [],
   "source": [
    "# Flat bottom at z=-Ho\n",
    "h = -Ho * np.ones((ny, nx), dtype=\"float32\")\n",
    "h[(0, -1), :] = 0  # Walls at top and bottom of domain"
   ]
  },
  {
   "cell_type": "markdown",
   "metadata": {},
   "source": [
    "# Load pickup data"
   ]
  },
  {
   "cell_type": "code",
   "execution_count": 11,
   "metadata": {},
   "outputs": [],
   "source": [
    "ds = xm.open_mdsdataset(\n",
    "    data_dir=\"/projects/0/topios/hydrodynamic_data/MITgcm/ACC_channel/ACC_run_fine/Diags\",\n",
    "    prefix=[\"state\", \"2D_diags\"],\n",
    "    read_grid=True,\n",
    "    geometry=\"cartesian\",\n",
    ")"
   ]
  },
  {
   "cell_type": "markdown",
   "metadata": {},
   "source": [
    "# Export binaries for U, V, $\\Theta$ & $\\eta$"
   ]
  },
  {
   "cell_type": "code",
   "execution_count": 13,
   "metadata": {},
   "outputs": [
    {
     "data": {
      "text/html": [
       "<div><svg style=\"position: absolute; width: 0; height: 0; overflow: hidden\">\n",
       "<defs>\n",
       "<symbol id=\"icon-database\" viewBox=\"0 0 32 32\">\n",
       "<path d=\"M16 0c-8.837 0-16 2.239-16 5v4c0 2.761 7.163 5 16 5s16-2.239 16-5v-4c0-2.761-7.163-5-16-5z\"></path>\n",
       "<path d=\"M16 17c-8.837 0-16-2.239-16-5v6c0 2.761 7.163 5 16 5s16-2.239 16-5v-6c0 2.761-7.163 5-16 5z\"></path>\n",
       "<path d=\"M16 26c-8.837 0-16-2.239-16-5v6c0 2.761 7.163 5 16 5s16-2.239 16-5v-6c0 2.761-7.163 5-16 5z\"></path>\n",
       "</symbol>\n",
       "<symbol id=\"icon-file-text2\" viewBox=\"0 0 32 32\">\n",
       "<path d=\"M28.681 7.159c-0.694-0.947-1.662-2.053-2.724-3.116s-2.169-2.030-3.116-2.724c-1.612-1.182-2.393-1.319-2.841-1.319h-15.5c-1.378 0-2.5 1.121-2.5 2.5v27c0 1.378 1.122 2.5 2.5 2.5h23c1.378 0 2.5-1.122 2.5-2.5v-19.5c0-0.448-0.137-1.23-1.319-2.841zM24.543 5.457c0.959 0.959 1.712 1.825 2.268 2.543h-4.811v-4.811c0.718 0.556 1.584 1.309 2.543 2.268zM28 29.5c0 0.271-0.229 0.5-0.5 0.5h-23c-0.271 0-0.5-0.229-0.5-0.5v-27c0-0.271 0.229-0.5 0.5-0.5 0 0 15.499-0 15.5 0v7c0 0.552 0.448 1 1 1h7v19.5z\"></path>\n",
       "<path d=\"M23 26h-14c-0.552 0-1-0.448-1-1s0.448-1 1-1h14c0.552 0 1 0.448 1 1s-0.448 1-1 1z\"></path>\n",
       "<path d=\"M23 22h-14c-0.552 0-1-0.448-1-1s0.448-1 1-1h14c0.552 0 1 0.448 1 1s-0.448 1-1 1z\"></path>\n",
       "<path d=\"M23 18h-14c-0.552 0-1-0.448-1-1s0.448-1 1-1h14c0.552 0 1 0.448 1 1s-0.448 1-1 1z\"></path>\n",
       "</symbol>\n",
       "</defs>\n",
       "</svg>\n",
       "<style>/* CSS stylesheet for displaying xarray objects in jupyterlab.\n",
       " *\n",
       " */\n",
       "\n",
       ":root {\n",
       "  --xr-font-color0: var(--jp-content-font-color0, rgba(0, 0, 0, 1));\n",
       "  --xr-font-color2: var(--jp-content-font-color2, rgba(0, 0, 0, 0.54));\n",
       "  --xr-font-color3: var(--jp-content-font-color3, rgba(0, 0, 0, 0.38));\n",
       "  --xr-border-color: var(--jp-border-color2, #e0e0e0);\n",
       "  --xr-disabled-color: var(--jp-layout-color3, #bdbdbd);\n",
       "  --xr-background-color: var(--jp-layout-color0, white);\n",
       "  --xr-background-color-row-even: var(--jp-layout-color1, white);\n",
       "  --xr-background-color-row-odd: var(--jp-layout-color2, #eeeeee);\n",
       "}\n",
       "\n",
       "html[theme=dark],\n",
       "body.vscode-dark {\n",
       "  --xr-font-color0: rgba(255, 255, 255, 1);\n",
       "  --xr-font-color2: rgba(255, 255, 255, 0.54);\n",
       "  --xr-font-color3: rgba(255, 255, 255, 0.38);\n",
       "  --xr-border-color: #1F1F1F;\n",
       "  --xr-disabled-color: #515151;\n",
       "  --xr-background-color: #111111;\n",
       "  --xr-background-color-row-even: #111111;\n",
       "  --xr-background-color-row-odd: #313131;\n",
       "}\n",
       "\n",
       ".xr-wrap {\n",
       "  display: block;\n",
       "  min-width: 300px;\n",
       "  max-width: 700px;\n",
       "}\n",
       "\n",
       ".xr-text-repr-fallback {\n",
       "  /* fallback to plain text repr when CSS is not injected (untrusted notebook) */\n",
       "  display: none;\n",
       "}\n",
       "\n",
       ".xr-header {\n",
       "  padding-top: 6px;\n",
       "  padding-bottom: 6px;\n",
       "  margin-bottom: 4px;\n",
       "  border-bottom: solid 1px var(--xr-border-color);\n",
       "}\n",
       "\n",
       ".xr-header > div,\n",
       ".xr-header > ul {\n",
       "  display: inline;\n",
       "  margin-top: 0;\n",
       "  margin-bottom: 0;\n",
       "}\n",
       "\n",
       ".xr-obj-type,\n",
       ".xr-array-name {\n",
       "  margin-left: 2px;\n",
       "  margin-right: 10px;\n",
       "}\n",
       "\n",
       ".xr-obj-type {\n",
       "  color: var(--xr-font-color2);\n",
       "}\n",
       "\n",
       ".xr-sections {\n",
       "  padding-left: 0 !important;\n",
       "  display: grid;\n",
       "  grid-template-columns: 150px auto auto 1fr 20px 20px;\n",
       "}\n",
       "\n",
       ".xr-section-item {\n",
       "  display: contents;\n",
       "}\n",
       "\n",
       ".xr-section-item input {\n",
       "  display: none;\n",
       "}\n",
       "\n",
       ".xr-section-item input + label {\n",
       "  color: var(--xr-disabled-color);\n",
       "}\n",
       "\n",
       ".xr-section-item input:enabled + label {\n",
       "  cursor: pointer;\n",
       "  color: var(--xr-font-color2);\n",
       "}\n",
       "\n",
       ".xr-section-item input:enabled + label:hover {\n",
       "  color: var(--xr-font-color0);\n",
       "}\n",
       "\n",
       ".xr-section-summary {\n",
       "  grid-column: 1;\n",
       "  color: var(--xr-font-color2);\n",
       "  font-weight: 500;\n",
       "}\n",
       "\n",
       ".xr-section-summary > span {\n",
       "  display: inline-block;\n",
       "  padding-left: 0.5em;\n",
       "}\n",
       "\n",
       ".xr-section-summary-in:disabled + label {\n",
       "  color: var(--xr-font-color2);\n",
       "}\n",
       "\n",
       ".xr-section-summary-in + label:before {\n",
       "  display: inline-block;\n",
       "  content: '►';\n",
       "  font-size: 11px;\n",
       "  width: 15px;\n",
       "  text-align: center;\n",
       "}\n",
       "\n",
       ".xr-section-summary-in:disabled + label:before {\n",
       "  color: var(--xr-disabled-color);\n",
       "}\n",
       "\n",
       ".xr-section-summary-in:checked + label:before {\n",
       "  content: '▼';\n",
       "}\n",
       "\n",
       ".xr-section-summary-in:checked + label > span {\n",
       "  display: none;\n",
       "}\n",
       "\n",
       ".xr-section-summary,\n",
       ".xr-section-inline-details {\n",
       "  padding-top: 4px;\n",
       "  padding-bottom: 4px;\n",
       "}\n",
       "\n",
       ".xr-section-inline-details {\n",
       "  grid-column: 2 / -1;\n",
       "}\n",
       "\n",
       ".xr-section-details {\n",
       "  display: none;\n",
       "  grid-column: 1 / -1;\n",
       "  margin-bottom: 5px;\n",
       "}\n",
       "\n",
       ".xr-section-summary-in:checked ~ .xr-section-details {\n",
       "  display: contents;\n",
       "}\n",
       "\n",
       ".xr-array-wrap {\n",
       "  grid-column: 1 / -1;\n",
       "  display: grid;\n",
       "  grid-template-columns: 20px auto;\n",
       "}\n",
       "\n",
       ".xr-array-wrap > label {\n",
       "  grid-column: 1;\n",
       "  vertical-align: top;\n",
       "}\n",
       "\n",
       ".xr-preview {\n",
       "  color: var(--xr-font-color3);\n",
       "}\n",
       "\n",
       ".xr-array-preview,\n",
       ".xr-array-data {\n",
       "  padding: 0 5px !important;\n",
       "  grid-column: 2;\n",
       "}\n",
       "\n",
       ".xr-array-data,\n",
       ".xr-array-in:checked ~ .xr-array-preview {\n",
       "  display: none;\n",
       "}\n",
       "\n",
       ".xr-array-in:checked ~ .xr-array-data,\n",
       ".xr-array-preview {\n",
       "  display: inline-block;\n",
       "}\n",
       "\n",
       ".xr-dim-list {\n",
       "  display: inline-block !important;\n",
       "  list-style: none;\n",
       "  padding: 0 !important;\n",
       "  margin: 0;\n",
       "}\n",
       "\n",
       ".xr-dim-list li {\n",
       "  display: inline-block;\n",
       "  padding: 0;\n",
       "  margin: 0;\n",
       "}\n",
       "\n",
       ".xr-dim-list:before {\n",
       "  content: '(';\n",
       "}\n",
       "\n",
       ".xr-dim-list:after {\n",
       "  content: ')';\n",
       "}\n",
       "\n",
       ".xr-dim-list li:not(:last-child):after {\n",
       "  content: ',';\n",
       "  padding-right: 5px;\n",
       "}\n",
       "\n",
       ".xr-has-index {\n",
       "  font-weight: bold;\n",
       "}\n",
       "\n",
       ".xr-var-list,\n",
       ".xr-var-item {\n",
       "  display: contents;\n",
       "}\n",
       "\n",
       ".xr-var-item > div,\n",
       ".xr-var-item label,\n",
       ".xr-var-item > .xr-var-name span {\n",
       "  background-color: var(--xr-background-color-row-even);\n",
       "  margin-bottom: 0;\n",
       "}\n",
       "\n",
       ".xr-var-item > .xr-var-name:hover span {\n",
       "  padding-right: 5px;\n",
       "}\n",
       "\n",
       ".xr-var-list > li:nth-child(odd) > div,\n",
       ".xr-var-list > li:nth-child(odd) > label,\n",
       ".xr-var-list > li:nth-child(odd) > .xr-var-name span {\n",
       "  background-color: var(--xr-background-color-row-odd);\n",
       "}\n",
       "\n",
       ".xr-var-name {\n",
       "  grid-column: 1;\n",
       "}\n",
       "\n",
       ".xr-var-dims {\n",
       "  grid-column: 2;\n",
       "}\n",
       "\n",
       ".xr-var-dtype {\n",
       "  grid-column: 3;\n",
       "  text-align: right;\n",
       "  color: var(--xr-font-color2);\n",
       "}\n",
       "\n",
       ".xr-var-preview {\n",
       "  grid-column: 4;\n",
       "}\n",
       "\n",
       ".xr-var-name,\n",
       ".xr-var-dims,\n",
       ".xr-var-dtype,\n",
       ".xr-preview,\n",
       ".xr-attrs dt {\n",
       "  white-space: nowrap;\n",
       "  overflow: hidden;\n",
       "  text-overflow: ellipsis;\n",
       "  padding-right: 10px;\n",
       "}\n",
       "\n",
       ".xr-var-name:hover,\n",
       ".xr-var-dims:hover,\n",
       ".xr-var-dtype:hover,\n",
       ".xr-attrs dt:hover {\n",
       "  overflow: visible;\n",
       "  width: auto;\n",
       "  z-index: 1;\n",
       "}\n",
       "\n",
       ".xr-var-attrs,\n",
       ".xr-var-data {\n",
       "  display: none;\n",
       "  background-color: var(--xr-background-color) !important;\n",
       "  padding-bottom: 5px !important;\n",
       "}\n",
       "\n",
       ".xr-var-attrs-in:checked ~ .xr-var-attrs,\n",
       ".xr-var-data-in:checked ~ .xr-var-data {\n",
       "  display: block;\n",
       "}\n",
       "\n",
       ".xr-var-data > table {\n",
       "  float: right;\n",
       "}\n",
       "\n",
       ".xr-var-name span,\n",
       ".xr-var-data,\n",
       ".xr-attrs {\n",
       "  padding-left: 25px !important;\n",
       "}\n",
       "\n",
       ".xr-attrs,\n",
       ".xr-var-attrs,\n",
       ".xr-var-data {\n",
       "  grid-column: 1 / -1;\n",
       "}\n",
       "\n",
       "dl.xr-attrs {\n",
       "  padding: 0;\n",
       "  margin: 0;\n",
       "  display: grid;\n",
       "  grid-template-columns: 125px auto;\n",
       "}\n",
       "\n",
       ".xr-attrs dt, dd {\n",
       "  padding: 0;\n",
       "  margin: 0;\n",
       "  float: left;\n",
       "  padding-right: 10px;\n",
       "  width: auto;\n",
       "}\n",
       "\n",
       ".xr-attrs dt {\n",
       "  font-weight: normal;\n",
       "  grid-column: 1;\n",
       "}\n",
       "\n",
       ".xr-attrs dt:hover span {\n",
       "  display: inline-block;\n",
       "  background: var(--xr-background-color);\n",
       "  padding-right: 10px;\n",
       "}\n",
       "\n",
       ".xr-attrs dd {\n",
       "  grid-column: 2;\n",
       "  white-space: pre-wrap;\n",
       "  word-break: break-all;\n",
       "}\n",
       "\n",
       ".xr-icon-database,\n",
       ".xr-icon-file-text2 {\n",
       "  display: inline-block;\n",
       "  vertical-align: middle;\n",
       "  width: 1em;\n",
       "  height: 1.5em !important;\n",
       "  stroke-width: 0;\n",
       "  stroke: currentColor;\n",
       "  fill: currentColor;\n",
       "}\n",
       "</style><pre class='xr-text-repr-fallback'>&lt;xarray.DataArray &#x27;Z&#x27; (Z: 49)&gt;\n",
       "array([-2.743583e+00, -8.584476e+00, -1.517824e+01, -2.262147e+01,\n",
       "       -3.102292e+01, -4.050503e+01, -5.120542e+01, -6.327868e+01,\n",
       "       -7.689816e+01, -9.225786e+01, -1.095744e+02, -1.290890e+02,\n",
       "       -1.510690e+02, -1.758092e+02, -2.036331e+02, -2.348922e+02,\n",
       "       -2.699644e+02, -3.092511e+02, -3.531708e+02, -4.021500e+02,\n",
       "       -4.566106e+02, -5.169530e+02, -5.835361e+02, -6.566544e+02,\n",
       "       -7.365146e+02, -8.232148e+02, -9.167294e+02, -1.016902e+03,\n",
       "       -1.123451e+03, -1.235982e+03, -1.354017e+03, -1.477017e+03,\n",
       "       -1.604417e+03, -1.735655e+03, -1.870188e+03, -2.007518e+03,\n",
       "       -2.147192e+03, -2.288815e+03, -2.432043e+03, -2.576586e+03,\n",
       "       -2.722199e+03, -2.868680e+03, -3.015863e+03, -3.163609e+03,\n",
       "       -3.311808e+03, -3.460371e+03, -3.609225e+03, -3.758312e+03,\n",
       "       -3.907583e+03], dtype=float32)\n",
       "Coordinates:\n",
       "  * Z        (Z) &gt;f4 -2.7435827 -8.5844755 -15.178243 ... -3758.3115 -3907.5835\n",
       "    drF      (Z) &gt;f4 dask.array&lt;chunksize=(49,), meta=np.ndarray&gt;\n",
       "    PHrefC   (Z) &gt;f4 dask.array&lt;chunksize=(49,), meta=np.ndarray&gt;\n",
       "    rhoRef   (Z) &gt;f4 dask.array&lt;chunksize=(49,), meta=np.ndarray&gt;\n",
       "Attributes:\n",
       "    standard_name:  depth\n",
       "    long_name:      vertical coordinate of cell center\n",
       "    units:          m\n",
       "    positive:       down\n",
       "    axis:           Z</pre><div class='xr-wrap' hidden><div class='xr-header'><div class='xr-obj-type'>xarray.DataArray</div><div class='xr-array-name'>'Z'</div><ul class='xr-dim-list'><li><span class='xr-has-index'>Z</span>: 49</li></ul></div><ul class='xr-sections'><li class='xr-section-item'><div class='xr-array-wrap'><input id='section-bc8cb1c1-9f3e-43f4-a2cf-9ef11f762761' class='xr-array-in' type='checkbox' checked><label for='section-bc8cb1c1-9f3e-43f4-a2cf-9ef11f762761' title='Show/hide data repr'><svg class='icon xr-icon-database'><use xlink:href='#icon-database'></use></svg></label><div class='xr-array-preview xr-preview'><span>-2.7435827 -8.5844755 -15.178243 ... -3609.225 -3758.3115 -3907.5835</span></div><div class='xr-array-data'><pre>array([-2.743583e+00, -8.584476e+00, -1.517824e+01, -2.262147e+01,\n",
       "       -3.102292e+01, -4.050503e+01, -5.120542e+01, -6.327868e+01,\n",
       "       -7.689816e+01, -9.225786e+01, -1.095744e+02, -1.290890e+02,\n",
       "       -1.510690e+02, -1.758092e+02, -2.036331e+02, -2.348922e+02,\n",
       "       -2.699644e+02, -3.092511e+02, -3.531708e+02, -4.021500e+02,\n",
       "       -4.566106e+02, -5.169530e+02, -5.835361e+02, -6.566544e+02,\n",
       "       -7.365146e+02, -8.232148e+02, -9.167294e+02, -1.016902e+03,\n",
       "       -1.123451e+03, -1.235982e+03, -1.354017e+03, -1.477017e+03,\n",
       "       -1.604417e+03, -1.735655e+03, -1.870188e+03, -2.007518e+03,\n",
       "       -2.147192e+03, -2.288815e+03, -2.432043e+03, -2.576586e+03,\n",
       "       -2.722199e+03, -2.868680e+03, -3.015863e+03, -3.163609e+03,\n",
       "       -3.311808e+03, -3.460371e+03, -3.609225e+03, -3.758312e+03,\n",
       "       -3.907583e+03], dtype=float32)</pre></div></div></li><li class='xr-section-item'><input id='section-6409de25-f139-4c15-a494-ddd0d45d21f7' class='xr-section-summary-in' type='checkbox'  checked><label for='section-6409de25-f139-4c15-a494-ddd0d45d21f7' class='xr-section-summary' >Coordinates: <span>(4)</span></label><div class='xr-section-inline-details'></div><div class='xr-section-details'><ul class='xr-var-list'><li class='xr-var-item'><div class='xr-var-name'><span class='xr-has-index'>Z</span></div><div class='xr-var-dims'>(Z)</div><div class='xr-var-dtype'>&gt;f4</div><div class='xr-var-preview xr-preview'>-2.7435827 ... -3907.5835</div><input id='attrs-2e6469b8-21dd-49d8-ba63-4778e0c5eb67' class='xr-var-attrs-in' type='checkbox' ><label for='attrs-2e6469b8-21dd-49d8-ba63-4778e0c5eb67' title='Show/Hide attributes'><svg class='icon xr-icon-file-text2'><use xlink:href='#icon-file-text2'></use></svg></label><input id='data-16b024e4-4fb0-4103-a6fe-3fde2da9c6bb' class='xr-var-data-in' type='checkbox'><label for='data-16b024e4-4fb0-4103-a6fe-3fde2da9c6bb' title='Show/Hide data repr'><svg class='icon xr-icon-database'><use xlink:href='#icon-database'></use></svg></label><div class='xr-var-attrs'><dl class='xr-attrs'><dt><span>standard_name :</span></dt><dd>depth</dd><dt><span>long_name :</span></dt><dd>vertical coordinate of cell center</dd><dt><span>units :</span></dt><dd>m</dd><dt><span>positive :</span></dt><dd>down</dd><dt><span>axis :</span></dt><dd>Z</dd></dl></div><div class='xr-var-data'><pre>array([-2.743583e+00, -8.584476e+00, -1.517824e+01, -2.262147e+01,\n",
       "       -3.102292e+01, -4.050503e+01, -5.120542e+01, -6.327868e+01,\n",
       "       -7.689816e+01, -9.225786e+01, -1.095744e+02, -1.290890e+02,\n",
       "       -1.510690e+02, -1.758092e+02, -2.036331e+02, -2.348922e+02,\n",
       "       -2.699644e+02, -3.092511e+02, -3.531708e+02, -4.021500e+02,\n",
       "       -4.566106e+02, -5.169530e+02, -5.835361e+02, -6.566544e+02,\n",
       "       -7.365146e+02, -8.232148e+02, -9.167294e+02, -1.016902e+03,\n",
       "       -1.123451e+03, -1.235982e+03, -1.354017e+03, -1.477017e+03,\n",
       "       -1.604417e+03, -1.735655e+03, -1.870188e+03, -2.007518e+03,\n",
       "       -2.147192e+03, -2.288815e+03, -2.432043e+03, -2.576586e+03,\n",
       "       -2.722199e+03, -2.868680e+03, -3.015863e+03, -3.163609e+03,\n",
       "       -3.311808e+03, -3.460371e+03, -3.609225e+03, -3.758312e+03,\n",
       "       -3.907583e+03], dtype=float32)</pre></div></li><li class='xr-var-item'><div class='xr-var-name'><span>drF</span></div><div class='xr-var-dims'>(Z)</div><div class='xr-var-dtype'>&gt;f4</div><div class='xr-var-preview xr-preview'>dask.array&lt;chunksize=(49,), meta=np.ndarray&gt;</div><input id='attrs-d87b1d62-8cab-49c6-868e-364f4bf4ac71' class='xr-var-attrs-in' type='checkbox' ><label for='attrs-d87b1d62-8cab-49c6-868e-364f4bf4ac71' title='Show/Hide attributes'><svg class='icon xr-icon-file-text2'><use xlink:href='#icon-file-text2'></use></svg></label><input id='data-e34db76a-ef37-4fb1-8dce-759d94848d5a' class='xr-var-data-in' type='checkbox'><label for='data-e34db76a-ef37-4fb1-8dce-759d94848d5a' title='Show/Hide data repr'><svg class='icon xr-icon-database'><use xlink:href='#icon-database'></use></svg></label><div class='xr-var-attrs'><dl class='xr-attrs'><dt><span>standard_name :</span></dt><dd>cell_z_size</dd><dt><span>long_name :</span></dt><dd>cell z size</dd><dt><span>units :</span></dt><dd>m</dd></dl></div><div class='xr-var-data'><table>\n",
       "<tr>\n",
       "<td>\n",
       "<table>\n",
       "  <thead>\n",
       "    <tr><td> </td><th> Array </th><th> Chunk </th></tr>\n",
       "  </thead>\n",
       "  <tbody>\n",
       "    <tr><th> Bytes </th><td> 196 B </td> <td> 196 B </td></tr>\n",
       "    <tr><th> Shape </th><td> (49,) </td> <td> (49,) </td></tr>\n",
       "    <tr><th> Count </th><td> 1 Tasks </td><td> 1 Chunks </td></tr>\n",
       "    <tr><th> Type </th><td> >f4 </td><td> numpy.ndarray </td></tr>\n",
       "  </tbody>\n",
       "</table>\n",
       "</td>\n",
       "<td>\n",
       "<svg width=\"170\" height=\"79\" style=\"stroke:rgb(0,0,0);stroke-width:1\" >\n",
       "\n",
       "  <!-- Horizontal lines -->\n",
       "  <line x1=\"0\" y1=\"0\" x2=\"120\" y2=\"0\" style=\"stroke-width:2\" />\n",
       "  <line x1=\"0\" y1=\"29\" x2=\"120\" y2=\"29\" style=\"stroke-width:2\" />\n",
       "\n",
       "  <!-- Vertical lines -->\n",
       "  <line x1=\"0\" y1=\"0\" x2=\"0\" y2=\"29\" style=\"stroke-width:2\" />\n",
       "  <line x1=\"120\" y1=\"0\" x2=\"120\" y2=\"29\" style=\"stroke-width:2\" />\n",
       "\n",
       "  <!-- Colored Rectangle -->\n",
       "  <polygon points=\"0.0,0.0 120.0,0.0 120.0,29.144536202220948 0.0,29.144536202220948\" style=\"fill:#ECB172A0;stroke-width:0\"/>\n",
       "\n",
       "  <!-- Text -->\n",
       "  <text x=\"60.000000\" y=\"49.144536\" font-size=\"1.0rem\" font-weight=\"100\" text-anchor=\"middle\" >49</text>\n",
       "  <text x=\"140.000000\" y=\"14.572268\" font-size=\"1.0rem\" font-weight=\"100\" text-anchor=\"middle\" transform=\"rotate(0,140.000000,14.572268)\">1</text>\n",
       "</svg>\n",
       "</td>\n",
       "</tr>\n",
       "</table></div></li><li class='xr-var-item'><div class='xr-var-name'><span>PHrefC</span></div><div class='xr-var-dims'>(Z)</div><div class='xr-var-dtype'>&gt;f4</div><div class='xr-var-preview xr-preview'>dask.array&lt;chunksize=(49,), meta=np.ndarray&gt;</div><input id='attrs-fed8b4b2-052d-4ad2-b4e3-50ebb78c2337' class='xr-var-attrs-in' type='checkbox' ><label for='attrs-fed8b4b2-052d-4ad2-b4e3-50ebb78c2337' title='Show/Hide attributes'><svg class='icon xr-icon-file-text2'><use xlink:href='#icon-file-text2'></use></svg></label><input id='data-eda7951d-ea3c-46b9-b024-caafb9308645' class='xr-var-data-in' type='checkbox'><label for='data-eda7951d-ea3c-46b9-b024-caafb9308645' title='Show/Hide data repr'><svg class='icon xr-icon-database'><use xlink:href='#icon-database'></use></svg></label><div class='xr-var-attrs'><dl class='xr-attrs'><dt><span>standard_name :</span></dt><dd>cell_reference_pressure</dd><dt><span>long_name :</span></dt><dd>Reference Hydrostatic Pressure</dd><dt><span>units :</span></dt><dd>m2 s-2</dd></dl></div><div class='xr-var-data'><table>\n",
       "<tr>\n",
       "<td>\n",
       "<table>\n",
       "  <thead>\n",
       "    <tr><td> </td><th> Array </th><th> Chunk </th></tr>\n",
       "  </thead>\n",
       "  <tbody>\n",
       "    <tr><th> Bytes </th><td> 196 B </td> <td> 196 B </td></tr>\n",
       "    <tr><th> Shape </th><td> (49,) </td> <td> (49,) </td></tr>\n",
       "    <tr><th> Count </th><td> 1 Tasks </td><td> 1 Chunks </td></tr>\n",
       "    <tr><th> Type </th><td> >f4 </td><td> numpy.ndarray </td></tr>\n",
       "  </tbody>\n",
       "</table>\n",
       "</td>\n",
       "<td>\n",
       "<svg width=\"170\" height=\"79\" style=\"stroke:rgb(0,0,0);stroke-width:1\" >\n",
       "\n",
       "  <!-- Horizontal lines -->\n",
       "  <line x1=\"0\" y1=\"0\" x2=\"120\" y2=\"0\" style=\"stroke-width:2\" />\n",
       "  <line x1=\"0\" y1=\"29\" x2=\"120\" y2=\"29\" style=\"stroke-width:2\" />\n",
       "\n",
       "  <!-- Vertical lines -->\n",
       "  <line x1=\"0\" y1=\"0\" x2=\"0\" y2=\"29\" style=\"stroke-width:2\" />\n",
       "  <line x1=\"120\" y1=\"0\" x2=\"120\" y2=\"29\" style=\"stroke-width:2\" />\n",
       "\n",
       "  <!-- Colored Rectangle -->\n",
       "  <polygon points=\"0.0,0.0 120.0,0.0 120.0,29.144536202220948 0.0,29.144536202220948\" style=\"fill:#ECB172A0;stroke-width:0\"/>\n",
       "\n",
       "  <!-- Text -->\n",
       "  <text x=\"60.000000\" y=\"49.144536\" font-size=\"1.0rem\" font-weight=\"100\" text-anchor=\"middle\" >49</text>\n",
       "  <text x=\"140.000000\" y=\"14.572268\" font-size=\"1.0rem\" font-weight=\"100\" text-anchor=\"middle\" transform=\"rotate(0,140.000000,14.572268)\">1</text>\n",
       "</svg>\n",
       "</td>\n",
       "</tr>\n",
       "</table></div></li><li class='xr-var-item'><div class='xr-var-name'><span>rhoRef</span></div><div class='xr-var-dims'>(Z)</div><div class='xr-var-dtype'>&gt;f4</div><div class='xr-var-preview xr-preview'>dask.array&lt;chunksize=(49,), meta=np.ndarray&gt;</div><input id='attrs-323520de-4936-412c-b3c6-7891916f6f94' class='xr-var-attrs-in' type='checkbox' ><label for='attrs-323520de-4936-412c-b3c6-7891916f6f94' title='Show/Hide attributes'><svg class='icon xr-icon-file-text2'><use xlink:href='#icon-file-text2'></use></svg></label><input id='data-1ff2cfbb-9910-4b4c-96a5-e955b0bea931' class='xr-var-data-in' type='checkbox'><label for='data-1ff2cfbb-9910-4b4c-96a5-e955b0bea931' title='Show/Hide data repr'><svg class='icon xr-icon-database'><use xlink:href='#icon-database'></use></svg></label><div class='xr-var-attrs'><dl class='xr-attrs'><dt><span>standard_name :</span></dt><dd>reference_density_profile</dd><dt><span>long_name :</span></dt><dd>1D, vertical reference density profile</dd><dt><span>coordinate :</span></dt><dd>Z</dd><dt><span>units :</span></dt><dd>kg m-3</dd></dl></div><div class='xr-var-data'><table>\n",
       "<tr>\n",
       "<td>\n",
       "<table>\n",
       "  <thead>\n",
       "    <tr><td> </td><th> Array </th><th> Chunk </th></tr>\n",
       "  </thead>\n",
       "  <tbody>\n",
       "    <tr><th> Bytes </th><td> 196 B </td> <td> 196 B </td></tr>\n",
       "    <tr><th> Shape </th><td> (49,) </td> <td> (49,) </td></tr>\n",
       "    <tr><th> Count </th><td> 1 Tasks </td><td> 1 Chunks </td></tr>\n",
       "    <tr><th> Type </th><td> >f4 </td><td> numpy.ndarray </td></tr>\n",
       "  </tbody>\n",
       "</table>\n",
       "</td>\n",
       "<td>\n",
       "<svg width=\"170\" height=\"79\" style=\"stroke:rgb(0,0,0);stroke-width:1\" >\n",
       "\n",
       "  <!-- Horizontal lines -->\n",
       "  <line x1=\"0\" y1=\"0\" x2=\"120\" y2=\"0\" style=\"stroke-width:2\" />\n",
       "  <line x1=\"0\" y1=\"29\" x2=\"120\" y2=\"29\" style=\"stroke-width:2\" />\n",
       "\n",
       "  <!-- Vertical lines -->\n",
       "  <line x1=\"0\" y1=\"0\" x2=\"0\" y2=\"29\" style=\"stroke-width:2\" />\n",
       "  <line x1=\"120\" y1=\"0\" x2=\"120\" y2=\"29\" style=\"stroke-width:2\" />\n",
       "\n",
       "  <!-- Colored Rectangle -->\n",
       "  <polygon points=\"0.0,0.0 120.0,0.0 120.0,29.144536202220948 0.0,29.144536202220948\" style=\"fill:#ECB172A0;stroke-width:0\"/>\n",
       "\n",
       "  <!-- Text -->\n",
       "  <text x=\"60.000000\" y=\"49.144536\" font-size=\"1.0rem\" font-weight=\"100\" text-anchor=\"middle\" >49</text>\n",
       "  <text x=\"140.000000\" y=\"14.572268\" font-size=\"1.0rem\" font-weight=\"100\" text-anchor=\"middle\" transform=\"rotate(0,140.000000,14.572268)\">1</text>\n",
       "</svg>\n",
       "</td>\n",
       "</tr>\n",
       "</table></div></li></ul></div></li><li class='xr-section-item'><input id='section-8ff6c222-36ab-4e70-94c5-5922ed615a80' class='xr-section-summary-in' type='checkbox'  checked><label for='section-8ff6c222-36ab-4e70-94c5-5922ed615a80' class='xr-section-summary' >Attributes: <span>(5)</span></label><div class='xr-section-inline-details'></div><div class='xr-section-details'><dl class='xr-attrs'><dt><span>standard_name :</span></dt><dd>depth</dd><dt><span>long_name :</span></dt><dd>vertical coordinate of cell center</dd><dt><span>units :</span></dt><dd>m</dd><dt><span>positive :</span></dt><dd>down</dd><dt><span>axis :</span></dt><dd>Z</dd></dl></div></li></ul></div></div>"
      ],
      "text/plain": [
       "<xarray.DataArray 'Z' (Z: 49)>\n",
       "array([-2.743583e+00, -8.584476e+00, -1.517824e+01, -2.262147e+01,\n",
       "       -3.102292e+01, -4.050503e+01, -5.120542e+01, -6.327868e+01,\n",
       "       -7.689816e+01, -9.225786e+01, -1.095744e+02, -1.290890e+02,\n",
       "       -1.510690e+02, -1.758092e+02, -2.036331e+02, -2.348922e+02,\n",
       "       -2.699644e+02, -3.092511e+02, -3.531708e+02, -4.021500e+02,\n",
       "       -4.566106e+02, -5.169530e+02, -5.835361e+02, -6.566544e+02,\n",
       "       -7.365146e+02, -8.232148e+02, -9.167294e+02, -1.016902e+03,\n",
       "       -1.123451e+03, -1.235982e+03, -1.354017e+03, -1.477017e+03,\n",
       "       -1.604417e+03, -1.735655e+03, -1.870188e+03, -2.007518e+03,\n",
       "       -2.147192e+03, -2.288815e+03, -2.432043e+03, -2.576586e+03,\n",
       "       -2.722199e+03, -2.868680e+03, -3.015863e+03, -3.163609e+03,\n",
       "       -3.311808e+03, -3.460371e+03, -3.609225e+03, -3.758312e+03,\n",
       "       -3.907583e+03], dtype=float32)\n",
       "Coordinates:\n",
       "  * Z        (Z) >f4 -2.7435827 -8.5844755 -15.178243 ... -3758.3115 -3907.5835\n",
       "    drF      (Z) >f4 dask.array<chunksize=(49,), meta=np.ndarray>\n",
       "    PHrefC   (Z) >f4 dask.array<chunksize=(49,), meta=np.ndarray>\n",
       "    rhoRef   (Z) >f4 dask.array<chunksize=(49,), meta=np.ndarray>\n",
       "Attributes:\n",
       "    standard_name:  depth\n",
       "    long_name:      vertical coordinate of cell center\n",
       "    units:          m\n",
       "    positive:       down\n",
       "    axis:           Z"
      ]
     },
     "execution_count": 13,
     "metadata": {},
     "output_type": "execute_result"
    }
   ],
   "source": [
    "ds.Z"
   ]
  },
  {
   "cell_type": "code",
   "execution_count": 14,
   "metadata": {},
   "outputs": [
    {
     "name": "stdout",
     "output_type": "stream",
     "text": [
      "write to file: pickup_temp.bin\n"
     ]
    }
   ],
   "source": [
    "writefield(\"pickup_temp.bin\", ds.isel(time=69).THETA.values)"
   ]
  },
  {
   "cell_type": "code",
   "execution_count": 15,
   "metadata": {},
   "outputs": [
    {
     "name": "stdout",
     "output_type": "stream",
     "text": [
      "write to file: pickup_uvel.bin\n"
     ]
    }
   ],
   "source": [
    "writefield(\"pickup_uvel.bin\", ds.isel(time=69).UVEL.values)"
   ]
  },
  {
   "cell_type": "code",
   "execution_count": 16,
   "metadata": {},
   "outputs": [
    {
     "name": "stdout",
     "output_type": "stream",
     "text": [
      "write to file: pickup_vvel.bin\n"
     ]
    }
   ],
   "source": [
    "writefield(\"pickup_vvel.bin\", ds.isel(time=69).VVEL.values)"
   ]
  },
  {
   "cell_type": "code",
   "execution_count": 17,
   "metadata": {},
   "outputs": [
    {
     "name": "stdout",
     "output_type": "stream",
     "text": [
      "write to file: pickup_etan.bin\n"
     ]
    }
   ],
   "source": [
    "writefield(\"pickup_etan.bin\", ds.isel(time=69).ETAN.values)"
   ]
  },
  {
   "cell_type": "markdown",
   "metadata": {},
   "source": [
    "# Initial tracer (dummy salinity) setup"
   ]
  },
  {
   "cell_type": "markdown",
   "metadata": {},
   "source": [
    "We release the initial tracer profile at concentration 1 psu. Initial profile is padded (10 boxes on each side) with exponential decay to prevent spurious oscillations."
   ]
  },
  {
   "cell_type": "code",
   "execution_count": 19,
   "metadata": {},
   "outputs": [
    {
     "name": "stdout",
     "output_type": "stream",
     "text": [
      "502500 1002500\n"
     ]
    }
   ],
   "source": [
    "X_release = int(ds.XC[100].data)\n",
    "Y_release = int(ds.YC[200].data)\n",
    "print(X_release, Y_release)"
   ]
  },
  {
   "cell_type": "code",
   "execution_count": 20,
   "metadata": {},
   "outputs": [],
   "source": [
    "XX, YY = np.meshgrid(ds.XC.data, ds.YC.data)"
   ]
  },
  {
   "cell_type": "code",
   "execution_count": 22,
   "metadata": {},
   "outputs": [],
   "source": [
    "dist_to_release = np.sqrt(np.square(X_release - XX) + np.square(Y_release - YY))"
   ]
  },
  {
   "cell_type": "markdown",
   "metadata": {},
   "source": [
    "The initial tracer distribution is \n",
    "$$\n",
    "\\begin{cases} \n",
    "    \\left(\\frac{1}{(2 e)^{r/50,000}}-\\frac{1}{2 e}\\right)/\\left(1-\\frac{1}{2e}\\right) &\\qquad r<=50,000 \\text{ meters}\\\\\n",
    "    0 &\\qquad r>50,000 \\text{ meters}\n",
    "\\end{cases}    \n",
    "$$\n",
    "where\n",
    "$$\n",
    "r = \\sqrt{(X_r-X)^2 + (Y_r-Y)^2}\n",
    "$$"
   ]
  },
  {
   "cell_type": "code",
   "execution_count": 23,
   "metadata": {},
   "outputs": [],
   "source": [
    "S_3D = np.zeros((nz, ny, nx))\n",
    "S_3D[24, :, :] = np.where(dist_to_release/50000<=1,(1/np.power(2*np.exp(1), dist_to_release/50000)- 1/(2*np.exp(1)))/(1-1/(2*np.exp(1))), 0)"
   ]
  },
  {
   "cell_type": "code",
   "execution_count": 24,
   "metadata": {},
   "outputs": [
    {
     "data": {
      "text/plain": [
       "<matplotlib.image.AxesImage at 0x2ae748528730>"
      ]
     },
     "execution_count": 24,
     "metadata": {},
     "output_type": "execute_result"
    },
    {
     "data": {
      "image/png": "[encoded data removed]",
      "text/plain": [
       "<Figure size 432x288 with 1 Axes>"
      ]
     },
     "metadata": {
      "image/png": {
       "height": 251,
       "width": 149
      },
      "needs_background": "light"
     },
     "output_type": "display_data"
    }
   ],
   "source": [
    "plt.imshow(S_3D[24, :, :])"
   ]
  },
  {
   "cell_type": "code",
   "execution_count": 26,
   "metadata": {},
   "outputs": [
    {
     "data": {
      "image/png": "[encoded data removed]",
      "text/plain": [
       "<Figure size 432x288 with 1 Axes>"
      ]
     },
     "metadata": {
      "image/png": {
       "height": 261,
       "width": 388
      },
      "needs_background": "light"
     },
     "output_type": "display_data"
    }
   ],
   "source": [
    "plt.plot(X, S_3D[24,200,:])\n",
    "plt.xlabel('X [km]')\n",
    "plt.ylabel(r'tracer concentration [$m^{-3}$]')\n",
    "plt.show()"
   ]
  },
  {
   "cell_type": "code",
   "execution_count": 27,
   "metadata": {},
   "outputs": [
    {
     "name": "stdout",
     "output_type": "stream",
     "text": [
      "write to file: salinity_tracer_point.bin\n",
      "changed dtype to float32\n"
     ]
    }
   ],
   "source": [
    "writefield(\"salinity_tracer_point.bin\", S_3D)"
   ]
  },
  {
   "cell_type": "code",
   "execution_count": null,
   "metadata": {},
   "outputs": [],
   "source": []
  }
 ],
 "metadata": {
  "kernelspec": {
   "display_name": "Python (Oceanography)",
   "language": "python",
   "name": "oceanography"
  },
  "language_info": {
   "codemirror_mode": {
    "name": "ipython",
    "version": 3
   },
   "file_extension": ".py",
   "mimetype": "text/x-python",
   "name": "python",
   "nbconvert_exporter": "python",
   "pygments_lexer": "ipython3",
   "version": "3.9.2"
  }
 },
 "nbformat": 4,
 "nbformat_minor": 4
}
