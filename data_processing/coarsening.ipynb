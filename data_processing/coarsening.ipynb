{
 "cells": [
  {
   "cell_type": "code",
   "execution_count": 1,
   "metadata": {},
   "outputs": [],
   "source": [
    "import matplotlib.pyplot as plt\n",
    "import numpy as np\n",
    "import xarray as xr\n",
    "import xgcm\n",
    "import xmitgcm as xm\n",
    "import cftime"
   ]
  },
  {
   "cell_type": "code",
   "execution_count": 2,
   "metadata": {},
   "outputs": [],
   "source": [
    "path = \"/projects/0/topios/hydrodynamic_data/MITgcm/ACC_channel/ACC_ridge_fine_3y/Diags\""
   ]
  },
  {
   "cell_type": "code",
   "execution_count": 3,
   "metadata": {},
   "outputs": [],
   "source": [
    "ds = xm.open_mdsdataset(\n",
    "    data_dir=\"/projects/0/topios/hydrodynamic_data/MITgcm/ACC_channel/ACC_ridge_fine_3y/Diags\",\n",
    "    grid_dir=\"/projects/0/topios/hydrodynamic_data/MITgcm/ACC_channel/ACC_ridge_fine_3y\",\n",
    "    prefix=[\"state\", \"2D_diags\"],\n",
    "    read_grid=True,\n",
    "    geometry=\"cartesian\",\n",
    "    delta_t = 250,\n",
    "    ref_date = '2000-1-1 0:0:0',\n",
    "    calendar = '360_day',\n",
    ").isel(time=slice(0,360*2))"
   ]
  },
  {
   "cell_type": "code",
   "execution_count": 4,
   "metadata": {},
   "outputs": [],
   "source": [
    "ds_coarse = xm.open_mdsdataset(\n",
    "    data_dir=\"/projects/0/topios/hydrodynamic_data/MITgcm/ACC_channel/ACC_ridge_coarse_5y/Diags\",\n",
    "    grid_dir=\"/projects/0/topios/hydrodynamic_data/MITgcm/ACC_channel/ACC_ridge_coarse_5y\",\n",
    "    prefix=[\"state\", \"2D_diags\"],\n",
    "    read_grid=True,\n",
    "    geometry=\"cartesian\",\n",
    "    delta_t = 1000,\n",
    "    ref_date = '2000-1-1 12:0:0',\n",
    "    calendar = '360_day',\n",
    ").isel(time=slice(0,360*2))"
   ]
  },
  {
   "cell_type": "code",
   "execution_count": 6,
   "metadata": {},
   "outputs": [],
   "source": [
    "grid = xgcm.Grid(ds, periodic=['X'], boundary='extend', metrics={\n",
    "        ('X',): ['dxC', 'dxG','dxF', 'dxV'], # X distances\n",
    "        ('Y',): ['dyC', 'dyG','dyF', 'dyU'], # Y distances\n",
    "        ('Z',): ['drC', 'drF'], # Z distances\n",
    "        ('X', 'Y'): ['rA', 'rAz', 'rAs', 'rAw'] # Areas\n",
    "    })"
   ]
  },
  {
   "cell_type": "code",
   "execution_count": 7,
   "metadata": {},
   "outputs": [],
   "source": [
    "coarse_grid = xgcm.Grid(ds_coarse, periodic=['X'], boundary='extend', metrics={\n",
    "        ('X',): ['dxC', 'dxG','dxF', 'dxV'], # X distances\n",
    "        ('Y',): ['dyC', 'dyG','dyF', 'dyU'], # Y distances\n",
    "        ('Z',): ['drC', 'drF'], # Z distances\n",
    "        ('X', 'Y'): ['rA', 'rAz', 'rAs', 'rAw'] # Areas\n",
    "    })"
   ]
  },
  {
   "cell_type": "markdown",
   "metadata": {},
   "source": [
    "# Create a coarsened dataset"
   ]
  },
  {
   "cell_type": "code",
   "execution_count": 38,
   "metadata": {},
   "outputs": [],
   "source": [
    "def coarsen(ds, ds_coarse, grid=True, kpp=False, debugW=False):\n",
    "    attributes = {}\n",
    "    for var in (ds_coarse.variables):\n",
    "        attributes[var] = ds_coarse[var].attrs\n",
    "        \n",
    "    coarse_grid = xgcm.Grid(ds_coarse, periodic=['X'], boundary='extend', metrics={\n",
    "        ('X',): ['dxC', 'dxG','dxF', 'dxV'], # X distances\n",
    "        ('Y',): ['dyC', 'dyG','dyF', 'dyU'], # Y distances\n",
    "        ('Z',): ['drC', 'drF'], # Z distances\n",
    "        ('X', 'Y'): ['rA', 'rAz', 'rAs', 'rAw'] # Areas\n",
    "    })\n",
    "    \n",
    "    ds_coarsened = xr.Dataset()\n",
    "\n",
    "    print(\"Coarsening `ETAN`     \", end='\\r')\n",
    "    ds_coarsened['ETAN'] = ds.ETAN.coarsen(dim={'XC': 10, 'YC': 10}).mean().compute()\n",
    "    print(\"Coarsening `MXLDEPTH`     \", end='\\r')\n",
    "    ds_coarsened['MXLDEPTH'] = ds.MXLDEPTH.coarsen(dim={'XC': 10, 'YC': 10}).mean().compute()\n",
    "    print(\"Coarsening `SALT`      \", end='\\r')\n",
    "    SALTcontent = (ds.SALT*ds.drF * ds.rA * ds.hFacC).coarsen(dim={'XC': 10, 'YC': 10}).sum().compute()\n",
    "    newSALT = (SALTcontent/(ds_coarse.drF * ds_coarse.rA * ds_coarse.hFacC)).compute().fillna(0)\n",
    "    ds_coarsened['SALT'] = newSALT.where(np.isfinite(newSALT), 0).compute()\n",
    "    print(\"Coarsening `THETA`  \", end='\\r')\n",
    "    THETAcontent = (ds.THETA*ds.drF * ds.rA * ds.hFacC).coarsen(dim={'XC': 10, 'YC': 10}).sum().compute()\n",
    "    newTHETA = (THETAcontent/(ds_coarse.drF * ds_coarse.rA * ds_coarse.hFacC)).compute().fillna(0)\n",
    "    ds_coarsened['THETA'] = newTHETA.where(np.isfinite(newTHETA), 0).compute()\n",
    "    if kpp == True:\n",
    "        variables.append(\"KPPhbl\")\n",
    "        variables.append(\"KPPdiffS\")\n",
    "        print(\"Coarsening `KPPhbl`  \", end='\\r')\n",
    "        ds_coarsened['KPPhbl'] = ds.KPPhbl.coarsen(dim={'XC': 10, 'YC': 10}).mean().compute()\n",
    "        print(\"Coarsening `KPPdiffS`  \", end='\\r')\n",
    "        ds_coarsened['KPPdiffS'] = ds.KPPdiffS.coarsen(dim={'XC': 10, 'YC': 10}).mean().compute()\n",
    "    for var in (ds_coarse.variables):\n",
    "        ds_coarse[var].attrs = attributes[var]\n",
    "    print(\"Coarsening `UVEL`      \", end='\\r')\n",
    "    u_transport = ds.UVEL * ds.dyG * ds.hFacW * ds.drF\n",
    "    u_transport_coarse = u_transport[:, :, :, ::10].coarsen(dim={'YC': 10}).sum()\n",
    "    newUVEL = (u_transport_coarse / (ds_coarse.dyG * ds_coarse.hFacW * ds_coarse.drF)).fillna(0)\n",
    "    ds_coarsened['UVEL'] = newUVEL.where(np.isfinite(newUVEL), 0).compute()\n",
    "    print(\"Coarsening `VVEL`      \", end='\\r')\n",
    "    v_transport = ds.VVEL * ds.dxG * ds.hFacS * ds.drF\n",
    "    v_transport_coarse = v_transport[:, :, ::10, :].coarsen(dim={'XC': 10}).sum()\n",
    "    newVVEL = (v_transport_coarse / (ds_coarse.dxG * ds_coarse.hFacS * ds_coarse.drF)).fillna(0)\n",
    "    ds_coarsened['VVEL'] = newVVEL.where(np.isfinite(newVVEL), 0).compute()\n",
    "    print(\"Computing `WVEL` from non-divergence\", end='\\r')\n",
    "    wvel_coarsened = ds.WVEL.coarsen(dim={'XC': 10, 'YC': 10}).mean()\n",
    "    ds_coarsened['WVEL'] = (coarse_grid.cumsum(coarse_grid.diff(u_transport_coarse, 'X') + coarse_grid.diff(v_transport_coarse, 'Y', boundary='fill'), axis='Z', boundary='fill')/ds_coarse.rA + wvel_coarsened.isel(Zl=0)).compute()\n",
    "\n",
    "    for coord in list(ds_coarse.coords):\n",
    "        if coord not in list(ds_coarsened):\n",
    "            ds_coarsened[coord] = ds_coarse[coord]\n",
    "            ds_coarsened = ds_coarsened.set_coords(coord)\n",
    "\n",
    "    for var in list(ds_coarsened.variables):\n",
    "        ds_coarsened[var].attrs = attributes[var]        \n",
    "    \n",
    "    print(\"Done                                 \", end='\\r')\n",
    "    \n",
    "    \n",
    "    returnVars = [ds_coarsened]\n",
    "    if grid:\n",
    "        returnVars.append(coarse_grid)\n",
    "    if debugW:\n",
    "        returnVars.append(wvel_coarsened)\n",
    "    \n",
    "    if len(returnVars) == 1:\n",
    "        return ds_coarsened\n",
    "    else:\n",
    "        return returnVars"
   ]
  },
  {
   "cell_type": "code",
   "execution_count": 39,
   "metadata": {},
   "outputs": [
    {
     "name": "stdout",
     "output_type": "stream",
     "text": [
      "Coarsening `SALT`         \r"
     ]
    },
    {
     "name": "stderr",
     "output_type": "stream",
     "text": [
      "/home/daanr/miniconda3/envs/oceanography/lib/python3.9/site-packages/dask/core.py:121: RuntimeWarning: divide by zero encountered in true_divide\n",
      "  return func(*(_execute_task(a, cache) for a in args))\n",
      "/home/daanr/miniconda3/envs/oceanography/lib/python3.9/site-packages/dask/core.py:121: RuntimeWarning: invalid value encountered in true_divide\n",
      "  return func(*(_execute_task(a, cache) for a in args))\n"
     ]
    },
    {
     "name": "stdout",
     "output_type": "stream",
     "text": [
      "Coarsening `THETA`  \r"
     ]
    },
    {
     "name": "stderr",
     "output_type": "stream",
     "text": [
      "/home/daanr/miniconda3/envs/oceanography/lib/python3.9/site-packages/dask/core.py:121: RuntimeWarning: divide by zero encountered in true_divide\n",
      "  return func(*(_execute_task(a, cache) for a in args))\n",
      "/home/daanr/miniconda3/envs/oceanography/lib/python3.9/site-packages/dask/core.py:121: RuntimeWarning: invalid value encountered in true_divide\n",
      "  return func(*(_execute_task(a, cache) for a in args))\n"
     ]
    },
    {
     "name": "stdout",
     "output_type": "stream",
     "text": [
      "Coarsening `UVEL`      \r"
     ]
    },
    {
     "name": "stderr",
     "output_type": "stream",
     "text": [
      "/home/daanr/miniconda3/envs/oceanography/lib/python3.9/site-packages/dask/core.py:121: RuntimeWarning: divide by zero encountered in true_divide\n",
      "  return func(*(_execute_task(a, cache) for a in args))\n",
      "/home/daanr/miniconda3/envs/oceanography/lib/python3.9/site-packages/dask/core.py:121: RuntimeWarning: invalid value encountered in true_divide\n",
      "  return func(*(_execute_task(a, cache) for a in args))\n"
     ]
    },
    {
     "name": "stdout",
     "output_type": "stream",
     "text": [
      "Coarsening `VVEL`      \r"
     ]
    },
    {
     "name": "stderr",
     "output_type": "stream",
     "text": [
      "/home/daanr/miniconda3/envs/oceanography/lib/python3.9/site-packages/dask/core.py:121: RuntimeWarning: divide by zero encountered in true_divide\n",
      "  return func(*(_execute_task(a, cache) for a in args))\n",
      "/home/daanr/miniconda3/envs/oceanography/lib/python3.9/site-packages/dask/core.py:121: RuntimeWarning: invalid value encountered in true_divide\n",
      "  return func(*(_execute_task(a, cache) for a in args))\n"
     ]
    },
    {
     "name": "stdout",
     "output_type": "stream",
     "text": [
      "Done                                 \r"
     ]
    }
   ],
   "source": [
    "ds_coarsened, coarse_grid, wvel_coarsened = coarsen(ds, ds_coarse, debugW=True)"
   ]
  },
  {
   "cell_type": "code",
   "execution_count": 51,
   "metadata": {},
   "outputs": [],
   "source": [
    "ds_coarsened.to_netcdf(path=\"/projects/0/topios/hydrodynamic_data/MITgcm/ACC_channel/ACC_ridge_fine_2y_coarsened.nc\")"
   ]
  },
  {
   "cell_type": "code",
   "execution_count": null,
   "metadata": {},
   "outputs": [],
   "source": []
  }
 ],
 "metadata": {
  "kernelspec": {
   "display_name": "Python (Oceanography)",
   "language": "python",
   "name": "oceanography"
  },
  "language_info": {
   "codemirror_mode": {
    "name": "ipython",
    "version": 3
   },
   "file_extension": ".py",
   "mimetype": "text/x-python",
   "name": "python",
   "nbconvert_exporter": "python",
   "pygments_lexer": "ipython3",
   "version": "3.9.2"
  }
 },
 "nbformat": 4,
 "nbformat_minor": 4
}
